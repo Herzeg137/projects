{
  "nbformat": 4,
  "nbformat_minor": 0,
  "metadata": {
    "colab": {
      "private_outputs": true,
      "provenance": [],
      "authorship_tag": "ABX9TyMNYT5rxzq2KI6ledZJLvCa",
      "include_colab_link": true
    },
    "kernelspec": {
      "name": "python3",
      "display_name": "Python 3"
    },
    "language_info": {
      "name": "python"
    }
  },
  "cells": [
    {
      "cell_type": "markdown",
      "metadata": {
        "id": "view-in-github",
        "colab_type": "text"
      },
      "source": [
        "<a href=\"https://colab.research.google.com/github/Herzeg137/projects/blob/main/getApplication_1.ipynb\" target=\"_parent\"><img src=\"https://colab.research.google.com/assets/colab-badge.svg\" alt=\"Open In Colab\"/></a>"
      ]
    },
    {
      "cell_type": "markdown",
      "source": [
        "# Ustoz-Shogird boti uchun python da yozilgan dastur.\n",
        "\n",
        "**Bu, bot yasash emas.** Shunchaki, o'sha bot dagi vazifalarni va savollarni python dasturiga o'tqizilgan. \n",
        "\n",
        "\n",
        "\n",
        "**NOTE:** Bu dastur practica qilish maqsadida yozilgan. Va ishlatilgan har bir qism avvaldan o'rganilgan.\n",
        "\n",
        "\n",
        "\n",
        "**Telegram user** olish muommo bo'lganligi uchun. **IP** ishlatilgan.\n",
        "\n",
        "bot: https://t.me/UstozShogirdBot"
      ],
      "metadata": {
        "id": "lHkbr83BcKZR"
      }
    },
    {
      "cell_type": "code",
      "source": [
        "#Boshlanish qismi\n",
        "!pip install simple_colors\n",
        "from simple_colors import *\n",
        "\n",
        "\n",
        "#print(blue('''                  Ish joyi topish uchun ariza berish\\n               ''', 'bold'))\n",
        "center2 = blue(''' Ish joyi topish uchun ariza berish\\n''', 'bold')\n",
        "b = center2.center(80)\n",
        "print(b)\n",
        "print('-----------------------------------------------------------------\\n')\n",
        "print(green('Hozir sizga birnecha savollar beriladi.  ', 'dim'))\n",
        "print(green('Har biriga javob bering. ', 'dim'))\n",
        "print(green('Oxirida agar hammasi to`g`ri bo`lsa, HA tugmasini bosing va arizangiz Adminga yuboriladi. ', 'dim'))"
      ],
      "metadata": {
        "id": "WSalPO_0duaz"
      },
      "execution_count": null,
      "outputs": []
    },
    {
      "cell_type": "code",
      "source": [
        "#questions and if s\n",
        "que1 = input('1) Ism, familiyangizni kiriting?\\n')\n",
        "\n",
        "que2 = int(input('\\n2) Yoshingiz: '))\n",
        "while que2 < 7:\n",
        "  print(\"Yoshingiz to'g'ri kelmaydi\")\n",
        "  print(\"Iltimos qayta urining\")\n",
        "  que2 = int(input('\\n2) Yoshingiz: '))\n",
        "\n",
        "que3 = input('\\n3) Texnologiya: ')\n",
        "\n",
        "que4 = input('\\n4) Telefon raqamingiz: ')\n",
        "\n",
        "que5 = input('\\n5) Hududingiz: ')\n",
        "\n",
        "que6 = input('\\n6) Narx: ')\n",
        "\n",
        "que7 = input(\"\\n7) Ishlaysizmi yoki O'qiysizmi?: \")\n",
        "\n",
        "que8 = input('\\n4) Murojaat qilish vaqti: ')\n",
        "\n",
        "que9 = input('\\n4) Maqsadingiz: ')\n",
        "while len(que9) == 0:\n",
        "  print(\"Iltimos maqsadingizni yozing.\")\n",
        "  que9 = input('\\n9) Maqsadingiz: ')"
      ],
      "metadata": {
        "id": "0W0XxFo-M4R4"
      },
      "execution_count": null,
      "outputs": []
    },
    {
      "cell_type": "code",
      "source": [
        "#Axborotlarni joylashritish qismi\n",
        "import simple_colors\n",
        "import socket\n",
        "\n",
        "def f_1(val, sal, kam, kal, kalbosh, yo, mayyo, oppo, yoq):\n",
        "  print(cyan('Xodim: ' + val, 'dim'))\n",
        "  print(cyan('Yosh: ' + str(sal), 'dim'))\n",
        "  print(cyan('Texnologiya: ' + str(kam), 'dim'))\n",
        "  a = socket.gethostbyname(socket.gethostname())\n",
        "  print(cyan('IP adress: '+ a , 'dim'))\n",
        "  print(cyan('Aloqa: ' + str(kal), 'dim'))\n",
        "  print(cyan('Hudud: ' + str(kalbosh), 'dim'))\n",
        "  print(cyan('Narx: ' + str(yo), 'dim'))\n",
        "  print(cyan('Kasb: ' + str(mayyo), 'dim'))\n",
        "  print(cyan('Murojaat qilish vaqti: ' + str(oppo), 'dim'))\n",
        "  print(cyan('Maqsad: ' + str(yoq), 'dim'))\n",
        "\n",
        "f_1(que1, que2, que3, que4, que5, que6, que7, que8, que9)"
      ],
      "metadata": {
        "id": "4qp3aYWc_Vs2"
      },
      "execution_count": null,
      "outputs": []
    },
    {
      "cell_type": "code",
      "source": [
        "#Full code\n",
        "#Birlashma\n",
        "!pip install simple_colors\n",
        "from simple_colors import *\n",
        "import socket\n",
        "\n",
        "\n",
        "#print(blue('''                  Ish joyi topish uchun ariza berish\\n               ''', 'bold'))\n",
        "center2 = blue(''' Ish joyi topish uchun ariza berish\\n''', 'bold')\n",
        "b = center2.center(80)\n",
        "print(b)\n",
        "print('-----------------------------------------------------------------\\n')\n",
        "print(green('Hozir sizga birnecha savollar beriladi.  ', 'dim'))\n",
        "print(green('Har biriga javob bering. ', 'dim'))\n",
        "print(green('Oxirida agar hammasi to`g`ri bo`lsa, HA tugmasini bosing va arizangiz Adminga yuboriladi. ', 'dim'))\n",
        "\n",
        "que1 = input('\\n1) Ism, familiyangizni kiriting?\\n')\n",
        "\n",
        "que2 = int(input('\\n2) Yoshingiz: '))\n",
        "while que2 < 10:\n",
        "  print(\"Yoshingiz to'g'ri kelmaydi.\")\n",
        "  print(\"Qaytadan urining.\")\n",
        "  que2 = int(input('\\n2) Yoshingiz: '))\n",
        "\n",
        "que3 = input('\\n3) Texnologiya: ')\n",
        "\n",
        "que4 = input('\\n4) Telefon raqamingiz: ')\n",
        "\n",
        "que5 = input('\\n5) Hududingiz: ')\n",
        "\n",
        "que6 = input('\\n6) Narx: ')\n",
        "\n",
        "que7 = input(\"\\n7) Ishlaysizmi yoki O'qiysizmi?: \")\n",
        "\n",
        "que8 = input('\\n8) Murojaat qilish vaqti: ')\n",
        "\n",
        "que9 = input('\\n9) Maqsadingiz: ')\n",
        "while len(que9) == 0:\n",
        "  print(\"Iltimos maqsadingizni yozing.\")\n",
        "  que9 = input('\\n9) Maqsadingiz: ')\n",
        "print('\\n-----------------------------------------------------------------\\n')\n",
        "\n",
        "def f_1(val, sal, kam, kal, kalbosh, yo, mayyo, oppo, yoq):\n",
        "  print(cyan('Xodim: ' + val, 'dim'))\n",
        "  print(cyan('Yosh: ' + str(sal), 'dim'))\n",
        "  print(cyan('Texnologiya: ' + str(kam), 'dim'))\n",
        "  a = socket.gethostbyname(socket.gethostname())\n",
        "  print(cyan('IP adress: '+ a , 'dim'))\n",
        "  print(cyan('Aloqa: ' + str(kal), 'dim'))\n",
        "  print(cyan('Hudud: ' + str(kalbosh), 'dim'))\n",
        "  print(cyan('Narx: ' + str(yo), 'dim'))\n",
        "  print(cyan('Kasb: ' + str(mayyo), 'dim'))\n",
        "  print(cyan('Murojaat qilish vaqti: ' + str(oppo), 'dim'))\n",
        "  print(cyan('Maqsad: ' + str(yoq), 'dim'))\n",
        "\n",
        "f_1(que1, que2, que3, que4, que5, que6, que7, que8, que9)\n",
        "\n",
        "print(\"\\nArizangiz adminga jo'natildi\")\n",
        "print(\"Tasdiqlansa, telegram akkountingizga xabar beriladi\\n\")\n",
        "print('-----------------------------------------------------------------\\n')\n",
        "\n",
        "center1 = blue('Bizning service dan foydalanganingiz uchun rahmat! ', 'bold')\n",
        "a = center1.center(80)\n",
        "print(a)"
      ],
      "metadata": {
        "id": "f_G3QGfhNsp7"
      },
      "execution_count": null,
      "outputs": []
    }
  ]
}