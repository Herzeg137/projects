{
  "nbformat": 4,
  "nbformat_minor": 0,
  "metadata": {
    "colab": {
      "private_outputs": true,
      "provenance": [],
      "authorship_tag": "ABX9TyPYAyQFFnJ/ejymlQfZAz4f",
      "include_colab_link": true
    },
    "kernelspec": {
      "name": "python3",
      "display_name": "Python 3"
    },
    "language_info": {
      "name": "python"
    }
  },
  "cells": [
    {
      "cell_type": "markdown",
      "metadata": {
        "id": "view-in-github",
        "colab_type": "text"
      },
      "source": [
        "<a href=\"https://colab.research.google.com/github/Herzeg137/projects/blob/main/GetPassword_in_unvisibile_mode1.ipynb\" target=\"_parent\"><img src=\"https://colab.research.google.com/assets/colab-badge.svg\" alt=\"Open In Colab\"/></a>"
      ]
    },
    {
      "cell_type": "code",
      "execution_count": null,
      "metadata": {
        "id": "5CuFyjTc5DVs"
      },
      "outputs": [],
      "source": [
        "#get pass and set time to print texts\n",
        "from getpass import getpass # <= for get pass in unvisibile mode\n",
        "import time # <= for set time to print\n",
        "\n",
        "passw = getpass('password: ')\n",
        "\n",
        "#set conditions\n",
        "while passw != 'abc':\n",
        "  print(\"That's not right\")\n",
        "  time.sleep(1)\n",
        "  print(\"Fuck off\")\n",
        "  time.sleep(1)\n",
        "  print(\"Or try again\")\n",
        "  time.sleep(1)\n",
        "  passw = getpass('password: ')\n",
        "else:\n",
        "  print(\"Welcome, sir\")"
      ]
    }
  ]
}